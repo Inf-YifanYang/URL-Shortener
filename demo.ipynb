{
 "cells": [
  {
   "cell_type": "markdown",
   "id": "aed503c6-bed8-42a2-b706-f93fafeaf0f8",
   "metadata": {},
   "source": [
    "### Before running the following script, make sure to setup the server in local with following command:\n",
    "\n",
    "bash setup.sh\n",
    "\n",
    "or\n",
    "\n",
    "uvicorn app.main:app --reload --port 8080"
   ]
  },
  {
   "cell_type": "code",
   "execution_count": 1,
   "id": "8ff6171e-cd30-44b4-8537-70cf91b21004",
   "metadata": {},
   "outputs": [],
   "source": [
    "from app.config import get_settings\n",
    "import requests"
   ]
  },
  {
   "cell_type": "code",
   "execution_count": 2,
   "id": "817409b3-8768-4901-b987-c1820f02dcea",
   "metadata": {},
   "outputs": [],
   "source": [
    "api_base_url = get_settings().BASE_URL\n",
    "api_service_url = '/'.join([api_base_url, 'service'])\n",
    "api_info_url = '/'.join([api_base_url, 'info'])"
   ]
  },
  {
   "cell_type": "code",
   "execution_count": 5,
   "id": "8b194058-4888-4d58-9a54-2b17cc23be8e",
   "metadata": {},
   "outputs": [
    {
     "data": {
      "text/plain": [
       "'http://localhost:8080'"
      ]
     },
     "execution_count": 5,
     "metadata": {},
     "output_type": "execute_result"
    }
   ],
   "source": [
    "api_base_url"
   ]
  },
  {
   "cell_type": "markdown",
   "id": "8cd63c6a-0e60-4959-b40e-5e86a8936f02",
   "metadata": {},
   "source": [
    "### Call API to Create Shortened URL"
   ]
  },
  {
   "cell_type": "code",
   "execution_count": 4,
   "id": "a2ab35e8-31ea-4193-a216-9bcea58d5d86",
   "metadata": {},
   "outputs": [
    {
     "name": "stdout",
     "output_type": "stream",
     "text": [
      "Shortened URL: http://localhost:8080/HVDW4, copy to browser for testing the link\n"
     ]
    }
   ],
   "source": [
    "# Data to send\n",
    "data = {\n",
    "    \"long_url\": \"https://www.keysight.com/us/en/home.html\",\n",
    "    \"expiration_minutes\": 20  # URL will expire after 20 minutes\n",
    "}\n",
    "\n",
    "# Send the POST request\n",
    "response = requests.post(api_service_url, json=data)\n",
    "\n",
    "if response.status_code == 200:\n",
    "    json_response = response.json() \n",
    "    print(\"Shortened URL: {:s}/{:s}, copy to browser for testing the link\".format(api_base_url, json_response.get(\"short_url\")))\n",
    "else:\n",
    "    print(\"Error:\", response.status_code, response.text)"
   ]
  },
  {
   "cell_type": "code",
   "execution_count": 13,
   "id": "ed78debe-dc71-4c45-8702-854027fbb0f8",
   "metadata": {},
   "outputs": [
    {
     "data": {
      "text/plain": [
       "{'long_url': 'https://www.google.com',\n",
       " 'expiration_minutes': 20,\n",
       " 'expiration_time': '2024-09-27T02:30:04.797886',\n",
       " 'creation_time': '2024-09-27T02:10:04.797886',\n",
       " 'short_url': 'XL6MS',\n",
       " 'is_active': True}"
      ]
     },
     "execution_count": 13,
     "metadata": {},
     "output_type": "execute_result"
    }
   ],
   "source": [
    "response.json()"
   ]
  },
  {
   "cell_type": "markdown",
   "id": "456ea9a8-d6f4-43a9-9375-f78011fee3ee",
   "metadata": {},
   "source": [
    "### Check Shortened URL Information"
   ]
  },
  {
   "cell_type": "code",
   "execution_count": 6,
   "id": "ff674eda-8fab-4983-ae2d-0239cc21d86d",
   "metadata": {},
   "outputs": [],
   "source": [
    "url = '{:s}/{:s}'.format(api_info_url, 'HVDW4')\n",
    "# Send the get request\n",
    "response = requests.get(url, json=data)"
   ]
  },
  {
   "cell_type": "code",
   "execution_count": 7,
   "id": "27b665db-ac95-4e18-8813-f8fef35b4bf2",
   "metadata": {},
   "outputs": [
    {
     "data": {
      "text/plain": [
       "{'long_url': 'https://www.keysight.com/us/en/home.html',\n",
       " 'remaining_time': '00:17:13',\n",
       " 'expiration_time': '2024-09-27T02:49:13.572413',\n",
       " 'creation_time': '2024-09-27T02:29:13.572413',\n",
       " 'short_url': 'HVDW4',\n",
       " 'is_active': True}"
      ]
     },
     "execution_count": 7,
     "metadata": {},
     "output_type": "execute_result"
    }
   ],
   "source": [
    "response.json()"
   ]
  },
  {
   "cell_type": "markdown",
   "id": "7c0e2bc7-b675-4203-a215-cdaebcb92949",
   "metadata": {},
   "source": [
    "### Add More Links"
   ]
  },
  {
   "cell_type": "code",
   "execution_count": 8,
   "id": "7660eaa2-6c09-43d7-9e80-061212365085",
   "metadata": {},
   "outputs": [
    {
     "name": "stdout",
     "output_type": "stream",
     "text": [
      "Shortened URL: http://localhost:8080/5LT40, copy to browser for testing the link\n"
     ]
    }
   ],
   "source": [
    "# Data to send\n",
    "data = {\n",
    "    \"long_url\": \"https://www.google.com\",\n",
    "    \"expiration_minutes\": 1  # URL will expire after 1 minutes\n",
    "}\n",
    "# Send the POST request\n",
    "response = requests.post(api_service_url, json=data)\n",
    "\n",
    "if response.status_code == 200:\n",
    "    json_response = response.json() \n",
    "    print(\"Shortened URL: {:s}/{:s}, copy to browser for testing the link\".format(api_base_url, json_response.get(\"short_url\")))\n",
    "else:\n",
    "    print(\"Error:\", response.status_code, response.text)"
   ]
  },
  {
   "cell_type": "code",
   "execution_count": 9,
   "id": "396c9473-59d0-4471-a68f-07caf2861670",
   "metadata": {},
   "outputs": [
    {
     "name": "stdout",
     "output_type": "stream",
     "text": [
      "Shortened URL: http://localhost:8080/DPJ4S, copy to browser for testing the link\n"
     ]
    }
   ],
   "source": [
    "# Data to send\n",
    "data = {\n",
    "    \"long_url\": \"https://www.bing.com\",\n",
    "    \"expiration_minutes\": 2  # URL will expire after 2 minutes\n",
    "}\n",
    "# Send the POST request\n",
    "response = requests.post(api_service_url, json=data)\n",
    "\n",
    "if response.status_code == 200:\n",
    "    json_response = response.json() \n",
    "    print(\"Shortened URL: {:s}/{:s}, copy to browser for testing the link\".format(api_base_url, json_response.get(\"short_url\")))\n",
    "else:\n",
    "    print(\"Error:\", response.status_code, response.text)"
   ]
  },
  {
   "cell_type": "code",
   "execution_count": 10,
   "id": "96ff1da8-eb64-4e74-88cd-038f6951cf7c",
   "metadata": {},
   "outputs": [
    {
     "name": "stdout",
     "output_type": "stream",
     "text": [
      "Shortened URL: http://localhost:8080/3XM3B, copy to browser for testing the link\n"
     ]
    }
   ],
   "source": [
    "# Data to send\n",
    "data = {\n",
    "    \"long_url\": \"https://www.amazon.com\",\n",
    "    \"expiration_minutes\": 3  # URL will expire after 3 minutes\n",
    "}\n",
    "# Send the POST request\n",
    "response = requests.post(api_service_url, json=data)\n",
    "\n",
    "if response.status_code == 200:\n",
    "    json_response = response.json() \n",
    "    print(\"Shortened URL: {:s}/{:s}, copy to browser for testing the link\".format(api_base_url, json_response.get(\"short_url\")))\n",
    "else:\n",
    "    print(\"Error:\", response.status_code, response.text)"
   ]
  },
  {
   "cell_type": "code",
   "execution_count": 11,
   "id": "11963012-5dde-4e62-8f64-2ea63b0b745e",
   "metadata": {},
   "outputs": [
    {
     "name": "stdout",
     "output_type": "stream",
     "text": [
      "Shortened URL: http://localhost:8080/XPHKC, copy to browser for testing the link\n"
     ]
    }
   ],
   "source": [
    "# Data to send\n",
    "data = {\n",
    "    \"long_url\": \"https://github.com/\",\n",
    "    \"expiration_minutes\": 4  # URL will expire after 4 minutes\n",
    "}\n",
    "# Send the POST request\n",
    "response = requests.post(api_service_url, json=data)\n",
    "\n",
    "if response.status_code == 200:\n",
    "    json_response = response.json() \n",
    "    print(\"Shortened URL: {:s}/{:s}, copy to browser for testing the link\".format(api_base_url, json_response.get(\"short_url\")))\n",
    "else:\n",
    "    print(\"Error:\", response.status_code, response.text)"
   ]
  },
  {
   "cell_type": "markdown",
   "id": "728001bc-2344-408c-8ae6-b26b8207f0fe",
   "metadata": {},
   "source": [
    "### Check URLs in Database And Their Expiration"
   ]
  },
  {
   "cell_type": "code",
   "execution_count": 16,
   "id": "4f16f65e-0e4b-4c9d-819b-40e7a6267e1a",
   "metadata": {},
   "outputs": [],
   "source": [
    "from app.database import SessionLocal, URLMapping\n",
    "import pandas as pd\n",
    "import datetime"
   ]
  },
  {
   "cell_type": "code",
   "execution_count": 14,
   "id": "523f3be4-b9b1-424d-bb26-0cc070cc58d2",
   "metadata": {},
   "outputs": [],
   "source": [
    "db = SessionLocal()\n",
    "df = []\n",
    "\n",
    "for db_url_mapping in db.query(URLMapping).all():\n",
    "    d = {'id': db_url_mapping.id,\n",
    "         'creation_time': db_url_mapping.creation_time,\n",
    "         'expiration_time': db_url_mapping.expiration_time,\n",
    "         'is_active': db_url_mapping.is_active,\n",
    "         'short_url': db_url_mapping.short_url,\n",
    "         'long_url': db_url_mapping.long_url}\n",
    "    df.append(d)"
   ]
  },
  {
   "cell_type": "code",
   "execution_count": 18,
   "id": "d63aa7d3-7add-4691-8063-c5da961443a1",
   "metadata": {},
   "outputs": [
    {
     "data": {
      "text/html": [
       "<div>\n",
       "<style scoped>\n",
       "    .dataframe tbody tr th:only-of-type {\n",
       "        vertical-align: middle;\n",
       "    }\n",
       "\n",
       "    .dataframe tbody tr th {\n",
       "        vertical-align: top;\n",
       "    }\n",
       "\n",
       "    .dataframe thead th {\n",
       "        text-align: right;\n",
       "    }\n",
       "</style>\n",
       "<table border=\"1\" class=\"dataframe\">\n",
       "  <thead>\n",
       "    <tr style=\"text-align: right;\">\n",
       "      <th></th>\n",
       "      <th>id</th>\n",
       "      <th>creation_time</th>\n",
       "      <th>expiration_time</th>\n",
       "      <th>is_active</th>\n",
       "      <th>short_url</th>\n",
       "      <th>long_url</th>\n",
       "    </tr>\n",
       "  </thead>\n",
       "  <tbody>\n",
       "    <tr>\n",
       "      <th>0</th>\n",
       "      <td>1</td>\n",
       "      <td>2024-09-27 02:29:13.572413</td>\n",
       "      <td>2024-09-27 02:49:13.572413</td>\n",
       "      <td>True</td>\n",
       "      <td>HVDW4</td>\n",
       "      <td>https://www.keysight.com/us/en/home.html</td>\n",
       "    </tr>\n",
       "    <tr>\n",
       "      <th>1</th>\n",
       "      <td>2</td>\n",
       "      <td>2024-09-27 02:37:14.979259</td>\n",
       "      <td>2024-09-27 02:38:14.979259</td>\n",
       "      <td>True</td>\n",
       "      <td>5LT40</td>\n",
       "      <td>https://www.google.com</td>\n",
       "    </tr>\n",
       "    <tr>\n",
       "      <th>2</th>\n",
       "      <td>3</td>\n",
       "      <td>2024-09-27 02:37:15.532955</td>\n",
       "      <td>2024-09-27 02:39:15.532955</td>\n",
       "      <td>True</td>\n",
       "      <td>DPJ4S</td>\n",
       "      <td>https://www.bing.com</td>\n",
       "    </tr>\n",
       "    <tr>\n",
       "      <th>3</th>\n",
       "      <td>4</td>\n",
       "      <td>2024-09-27 02:37:16.090145</td>\n",
       "      <td>2024-09-27 02:40:16.090145</td>\n",
       "      <td>True</td>\n",
       "      <td>3XM3B</td>\n",
       "      <td>https://www.amazon.com</td>\n",
       "    </tr>\n",
       "    <tr>\n",
       "      <th>4</th>\n",
       "      <td>5</td>\n",
       "      <td>2024-09-27 02:37:16.634263</td>\n",
       "      <td>2024-09-27 02:41:16.634263</td>\n",
       "      <td>True</td>\n",
       "      <td>XPHKC</td>\n",
       "      <td>https://github.com/</td>\n",
       "    </tr>\n",
       "  </tbody>\n",
       "</table>\n",
       "</div>"
      ],
      "text/plain": [
       "   id              creation_time            expiration_time  is_active  \\\n",
       "0   1 2024-09-27 02:29:13.572413 2024-09-27 02:49:13.572413       True   \n",
       "1   2 2024-09-27 02:37:14.979259 2024-09-27 02:38:14.979259       True   \n",
       "2   3 2024-09-27 02:37:15.532955 2024-09-27 02:39:15.532955       True   \n",
       "3   4 2024-09-27 02:37:16.090145 2024-09-27 02:40:16.090145       True   \n",
       "4   5 2024-09-27 02:37:16.634263 2024-09-27 02:41:16.634263       True   \n",
       "\n",
       "  short_url                                  long_url  \n",
       "0     HVDW4  https://www.keysight.com/us/en/home.html  \n",
       "1     5LT40                    https://www.google.com  \n",
       "2     DPJ4S                      https://www.bing.com  \n",
       "3     3XM3B                    https://www.amazon.com  \n",
       "4     XPHKC                       https://github.com/  "
      ]
     },
     "execution_count": 18,
     "metadata": {},
     "output_type": "execute_result"
    }
   ],
   "source": [
    "pd.DataFrame(df)"
   ]
  },
  {
   "cell_type": "code",
   "execution_count": 19,
   "id": "8d20fccc-70f8-414e-b3d8-66402b6b8e96",
   "metadata": {},
   "outputs": [
    {
     "data": {
      "text/plain": [
       "datetime.datetime(2024, 9, 27, 2, 38, 4, 516309)"
      ]
     },
     "execution_count": 19,
     "metadata": {},
     "output_type": "execute_result"
    }
   ],
   "source": [
    "current_time = datetime.datetime.now(datetime.UTC).replace(tzinfo=None)\n",
    "current_time"
   ]
  },
  {
   "cell_type": "markdown",
   "id": "0b7128dd-7582-440b-ab83-5030436e0c20",
   "metadata": {},
   "source": [
    "#### After 1 minute, the program automatically deativate expired item [google]"
   ]
  },
  {
   "cell_type": "code",
   "execution_count": 21,
   "id": "3301932c-8d90-407a-8253-9ca186b9e49f",
   "metadata": {},
   "outputs": [
    {
     "data": {
      "text/html": [
       "<div>\n",
       "<style scoped>\n",
       "    .dataframe tbody tr th:only-of-type {\n",
       "        vertical-align: middle;\n",
       "    }\n",
       "\n",
       "    .dataframe tbody tr th {\n",
       "        vertical-align: top;\n",
       "    }\n",
       "\n",
       "    .dataframe thead th {\n",
       "        text-align: right;\n",
       "    }\n",
       "</style>\n",
       "<table border=\"1\" class=\"dataframe\">\n",
       "  <thead>\n",
       "    <tr style=\"text-align: right;\">\n",
       "      <th></th>\n",
       "      <th>id</th>\n",
       "      <th>creation_time</th>\n",
       "      <th>expiration_time</th>\n",
       "      <th>is_active</th>\n",
       "      <th>short_url</th>\n",
       "      <th>long_url</th>\n",
       "    </tr>\n",
       "  </thead>\n",
       "  <tbody>\n",
       "    <tr>\n",
       "      <th>0</th>\n",
       "      <td>1</td>\n",
       "      <td>2024-09-27 02:29:13.572413</td>\n",
       "      <td>2024-09-27 02:49:13.572413</td>\n",
       "      <td>True</td>\n",
       "      <td>HVDW4</td>\n",
       "      <td>https://www.keysight.com/us/en/home.html</td>\n",
       "    </tr>\n",
       "    <tr>\n",
       "      <th>1</th>\n",
       "      <td>2</td>\n",
       "      <td>2024-09-27 02:37:14.979259</td>\n",
       "      <td>2024-09-27 02:38:14.979259</td>\n",
       "      <td>False</td>\n",
       "      <td>5LT40</td>\n",
       "      <td>https://www.google.com</td>\n",
       "    </tr>\n",
       "    <tr>\n",
       "      <th>2</th>\n",
       "      <td>3</td>\n",
       "      <td>2024-09-27 02:37:15.532955</td>\n",
       "      <td>2024-09-27 02:39:15.532955</td>\n",
       "      <td>True</td>\n",
       "      <td>DPJ4S</td>\n",
       "      <td>https://www.bing.com</td>\n",
       "    </tr>\n",
       "    <tr>\n",
       "      <th>3</th>\n",
       "      <td>4</td>\n",
       "      <td>2024-09-27 02:37:16.090145</td>\n",
       "      <td>2024-09-27 02:40:16.090145</td>\n",
       "      <td>True</td>\n",
       "      <td>3XM3B</td>\n",
       "      <td>https://www.amazon.com</td>\n",
       "    </tr>\n",
       "    <tr>\n",
       "      <th>4</th>\n",
       "      <td>5</td>\n",
       "      <td>2024-09-27 02:37:16.634263</td>\n",
       "      <td>2024-09-27 02:41:16.634263</td>\n",
       "      <td>True</td>\n",
       "      <td>XPHKC</td>\n",
       "      <td>https://github.com/</td>\n",
       "    </tr>\n",
       "  </tbody>\n",
       "</table>\n",
       "</div>"
      ],
      "text/plain": [
       "   id              creation_time            expiration_time  is_active  \\\n",
       "0   1 2024-09-27 02:29:13.572413 2024-09-27 02:49:13.572413       True   \n",
       "1   2 2024-09-27 02:37:14.979259 2024-09-27 02:38:14.979259      False   \n",
       "2   3 2024-09-27 02:37:15.532955 2024-09-27 02:39:15.532955       True   \n",
       "3   4 2024-09-27 02:37:16.090145 2024-09-27 02:40:16.090145       True   \n",
       "4   5 2024-09-27 02:37:16.634263 2024-09-27 02:41:16.634263       True   \n",
       "\n",
       "  short_url                                  long_url  \n",
       "0     HVDW4  https://www.keysight.com/us/en/home.html  \n",
       "1     5LT40                    https://www.google.com  \n",
       "2     DPJ4S                      https://www.bing.com  \n",
       "3     3XM3B                    https://www.amazon.com  \n",
       "4     XPHKC                       https://github.com/  "
      ]
     },
     "execution_count": 21,
     "metadata": {},
     "output_type": "execute_result"
    }
   ],
   "source": [
    "db = SessionLocal()\n",
    "df = []\n",
    "\n",
    "for db_url_mapping in db.query(URLMapping).all():\n",
    "    d = {'id': db_url_mapping.id,\n",
    "         'creation_time': db_url_mapping.creation_time,\n",
    "         'expiration_time': db_url_mapping.expiration_time,\n",
    "         'is_active': db_url_mapping.is_active,\n",
    "         'short_url': db_url_mapping.short_url,\n",
    "         'long_url': db_url_mapping.long_url}\n",
    "    df.append(d)\n",
    "db.close()\n",
    "pd.DataFrame(df)"
   ]
  },
  {
   "cell_type": "code",
   "execution_count": 22,
   "id": "7c918e5a-989b-4baa-8b29-1778309a0ad6",
   "metadata": {},
   "outputs": [
    {
     "data": {
      "text/plain": [
       "datetime.datetime(2024, 9, 27, 2, 39, 7, 909831)"
      ]
     },
     "execution_count": 22,
     "metadata": {},
     "output_type": "execute_result"
    }
   ],
   "source": [
    "current_time = datetime.datetime.now(datetime.UTC).replace(tzinfo=None)\n",
    "current_time"
   ]
  },
  {
   "cell_type": "markdown",
   "id": "48e475ea-12e8-49c7-846d-5499b859a1a6",
   "metadata": {},
   "source": [
    "#### After 1 minute, the program automatically deativate expired item [bing]"
   ]
  },
  {
   "cell_type": "code",
   "execution_count": 24,
   "id": "e9a2d3e3-b8f8-48ea-ad7d-2cf8aab28a92",
   "metadata": {},
   "outputs": [
    {
     "data": {
      "text/html": [
       "<div>\n",
       "<style scoped>\n",
       "    .dataframe tbody tr th:only-of-type {\n",
       "        vertical-align: middle;\n",
       "    }\n",
       "\n",
       "    .dataframe tbody tr th {\n",
       "        vertical-align: top;\n",
       "    }\n",
       "\n",
       "    .dataframe thead th {\n",
       "        text-align: right;\n",
       "    }\n",
       "</style>\n",
       "<table border=\"1\" class=\"dataframe\">\n",
       "  <thead>\n",
       "    <tr style=\"text-align: right;\">\n",
       "      <th></th>\n",
       "      <th>id</th>\n",
       "      <th>creation_time</th>\n",
       "      <th>expiration_time</th>\n",
       "      <th>is_active</th>\n",
       "      <th>short_url</th>\n",
       "      <th>long_url</th>\n",
       "    </tr>\n",
       "  </thead>\n",
       "  <tbody>\n",
       "    <tr>\n",
       "      <th>0</th>\n",
       "      <td>1</td>\n",
       "      <td>2024-09-27 02:29:13.572413</td>\n",
       "      <td>2024-09-27 02:49:13.572413</td>\n",
       "      <td>True</td>\n",
       "      <td>HVDW4</td>\n",
       "      <td>https://www.keysight.com/us/en/home.html</td>\n",
       "    </tr>\n",
       "    <tr>\n",
       "      <th>1</th>\n",
       "      <td>2</td>\n",
       "      <td>2024-09-27 02:37:14.979259</td>\n",
       "      <td>2024-09-27 02:38:14.979259</td>\n",
       "      <td>False</td>\n",
       "      <td>5LT40</td>\n",
       "      <td>https://www.google.com</td>\n",
       "    </tr>\n",
       "    <tr>\n",
       "      <th>2</th>\n",
       "      <td>3</td>\n",
       "      <td>2024-09-27 02:37:15.532955</td>\n",
       "      <td>2024-09-27 02:39:15.532955</td>\n",
       "      <td>False</td>\n",
       "      <td>DPJ4S</td>\n",
       "      <td>https://www.bing.com</td>\n",
       "    </tr>\n",
       "    <tr>\n",
       "      <th>3</th>\n",
       "      <td>4</td>\n",
       "      <td>2024-09-27 02:37:16.090145</td>\n",
       "      <td>2024-09-27 02:40:16.090145</td>\n",
       "      <td>True</td>\n",
       "      <td>3XM3B</td>\n",
       "      <td>https://www.amazon.com</td>\n",
       "    </tr>\n",
       "    <tr>\n",
       "      <th>4</th>\n",
       "      <td>5</td>\n",
       "      <td>2024-09-27 02:37:16.634263</td>\n",
       "      <td>2024-09-27 02:41:16.634263</td>\n",
       "      <td>True</td>\n",
       "      <td>XPHKC</td>\n",
       "      <td>https://github.com/</td>\n",
       "    </tr>\n",
       "  </tbody>\n",
       "</table>\n",
       "</div>"
      ],
      "text/plain": [
       "   id              creation_time            expiration_time  is_active  \\\n",
       "0   1 2024-09-27 02:29:13.572413 2024-09-27 02:49:13.572413       True   \n",
       "1   2 2024-09-27 02:37:14.979259 2024-09-27 02:38:14.979259      False   \n",
       "2   3 2024-09-27 02:37:15.532955 2024-09-27 02:39:15.532955      False   \n",
       "3   4 2024-09-27 02:37:16.090145 2024-09-27 02:40:16.090145       True   \n",
       "4   5 2024-09-27 02:37:16.634263 2024-09-27 02:41:16.634263       True   \n",
       "\n",
       "  short_url                                  long_url  \n",
       "0     HVDW4  https://www.keysight.com/us/en/home.html  \n",
       "1     5LT40                    https://www.google.com  \n",
       "2     DPJ4S                      https://www.bing.com  \n",
       "3     3XM3B                    https://www.amazon.com  \n",
       "4     XPHKC                       https://github.com/  "
      ]
     },
     "execution_count": 24,
     "metadata": {},
     "output_type": "execute_result"
    }
   ],
   "source": [
    "db = SessionLocal()\n",
    "df = []\n",
    "\n",
    "for db_url_mapping in db.query(URLMapping).all():\n",
    "    d = {'id': db_url_mapping.id,\n",
    "         'creation_time': db_url_mapping.creation_time,\n",
    "         'expiration_time': db_url_mapping.expiration_time,\n",
    "         'is_active': db_url_mapping.is_active,\n",
    "         'short_url': db_url_mapping.short_url,\n",
    "         'long_url': db_url_mapping.long_url}\n",
    "    df.append(d)\n",
    "db.close()\n",
    "pd.DataFrame(df)"
   ]
  },
  {
   "cell_type": "code",
   "execution_count": 25,
   "id": "6a6006ec-f65d-47ea-8905-6f1254d94079",
   "metadata": {},
   "outputs": [
    {
     "data": {
      "text/plain": [
       "datetime.datetime(2024, 9, 27, 2, 40, 7, 146759)"
      ]
     },
     "execution_count": 25,
     "metadata": {},
     "output_type": "execute_result"
    }
   ],
   "source": [
    "current_time = datetime.datetime.now(datetime.UTC).replace(tzinfo=None)\n",
    "current_time"
   ]
  },
  {
   "cell_type": "markdown",
   "id": "bd37ddaf-9e97-4370-9266-381010a49e60",
   "metadata": {},
   "source": [
    "#### After 1 minute, the program automatically deativate expired item [amazon]"
   ]
  },
  {
   "cell_type": "code",
   "execution_count": 26,
   "id": "b786a8a7-b6a9-44cc-befa-eca55dc41b77",
   "metadata": {},
   "outputs": [
    {
     "data": {
      "text/html": [
       "<div>\n",
       "<style scoped>\n",
       "    .dataframe tbody tr th:only-of-type {\n",
       "        vertical-align: middle;\n",
       "    }\n",
       "\n",
       "    .dataframe tbody tr th {\n",
       "        vertical-align: top;\n",
       "    }\n",
       "\n",
       "    .dataframe thead th {\n",
       "        text-align: right;\n",
       "    }\n",
       "</style>\n",
       "<table border=\"1\" class=\"dataframe\">\n",
       "  <thead>\n",
       "    <tr style=\"text-align: right;\">\n",
       "      <th></th>\n",
       "      <th>id</th>\n",
       "      <th>creation_time</th>\n",
       "      <th>expiration_time</th>\n",
       "      <th>is_active</th>\n",
       "      <th>short_url</th>\n",
       "      <th>long_url</th>\n",
       "    </tr>\n",
       "  </thead>\n",
       "  <tbody>\n",
       "    <tr>\n",
       "      <th>0</th>\n",
       "      <td>1</td>\n",
       "      <td>2024-09-27 02:29:13.572413</td>\n",
       "      <td>2024-09-27 02:49:13.572413</td>\n",
       "      <td>True</td>\n",
       "      <td>HVDW4</td>\n",
       "      <td>https://www.keysight.com/us/en/home.html</td>\n",
       "    </tr>\n",
       "    <tr>\n",
       "      <th>1</th>\n",
       "      <td>2</td>\n",
       "      <td>2024-09-27 02:37:14.979259</td>\n",
       "      <td>2024-09-27 02:38:14.979259</td>\n",
       "      <td>False</td>\n",
       "      <td>5LT40</td>\n",
       "      <td>https://www.google.com</td>\n",
       "    </tr>\n",
       "    <tr>\n",
       "      <th>2</th>\n",
       "      <td>3</td>\n",
       "      <td>2024-09-27 02:37:15.532955</td>\n",
       "      <td>2024-09-27 02:39:15.532955</td>\n",
       "      <td>False</td>\n",
       "      <td>DPJ4S</td>\n",
       "      <td>https://www.bing.com</td>\n",
       "    </tr>\n",
       "    <tr>\n",
       "      <th>3</th>\n",
       "      <td>4</td>\n",
       "      <td>2024-09-27 02:37:16.090145</td>\n",
       "      <td>2024-09-27 02:40:16.090145</td>\n",
       "      <td>False</td>\n",
       "      <td>3XM3B</td>\n",
       "      <td>https://www.amazon.com</td>\n",
       "    </tr>\n",
       "    <tr>\n",
       "      <th>4</th>\n",
       "      <td>5</td>\n",
       "      <td>2024-09-27 02:37:16.634263</td>\n",
       "      <td>2024-09-27 02:41:16.634263</td>\n",
       "      <td>True</td>\n",
       "      <td>XPHKC</td>\n",
       "      <td>https://github.com/</td>\n",
       "    </tr>\n",
       "  </tbody>\n",
       "</table>\n",
       "</div>"
      ],
      "text/plain": [
       "   id              creation_time            expiration_time  is_active  \\\n",
       "0   1 2024-09-27 02:29:13.572413 2024-09-27 02:49:13.572413       True   \n",
       "1   2 2024-09-27 02:37:14.979259 2024-09-27 02:38:14.979259      False   \n",
       "2   3 2024-09-27 02:37:15.532955 2024-09-27 02:39:15.532955      False   \n",
       "3   4 2024-09-27 02:37:16.090145 2024-09-27 02:40:16.090145      False   \n",
       "4   5 2024-09-27 02:37:16.634263 2024-09-27 02:41:16.634263       True   \n",
       "\n",
       "  short_url                                  long_url  \n",
       "0     HVDW4  https://www.keysight.com/us/en/home.html  \n",
       "1     5LT40                    https://www.google.com  \n",
       "2     DPJ4S                      https://www.bing.com  \n",
       "3     3XM3B                    https://www.amazon.com  \n",
       "4     XPHKC                       https://github.com/  "
      ]
     },
     "execution_count": 26,
     "metadata": {},
     "output_type": "execute_result"
    }
   ],
   "source": [
    "db = SessionLocal()\n",
    "df = []\n",
    "\n",
    "for db_url_mapping in db.query(URLMapping).all():\n",
    "    d = {'id': db_url_mapping.id,\n",
    "         'creation_time': db_url_mapping.creation_time,\n",
    "         'expiration_time': db_url_mapping.expiration_time,\n",
    "         'is_active': db_url_mapping.is_active,\n",
    "         'short_url': db_url_mapping.short_url,\n",
    "         'long_url': db_url_mapping.long_url}\n",
    "    df.append(d)\n",
    "db.close()\n",
    "pd.DataFrame(df)"
   ]
  },
  {
   "cell_type": "code",
   "execution_count": 27,
   "id": "ab47494d-700b-491a-b6a3-88ef2ccca663",
   "metadata": {},
   "outputs": [
    {
     "data": {
      "text/plain": [
       "datetime.datetime(2024, 9, 27, 2, 40, 55, 607110)"
      ]
     },
     "execution_count": 27,
     "metadata": {},
     "output_type": "execute_result"
    }
   ],
   "source": [
    "current_time = datetime.datetime.now(datetime.UTC).replace(tzinfo=None)\n",
    "current_time"
   ]
  },
  {
   "cell_type": "markdown",
   "id": "3df28ede-64f7-427b-963d-82e662323085",
   "metadata": {},
   "source": [
    "#### After 1 minute, the program automatically deativate expired item [github]"
   ]
  },
  {
   "cell_type": "code",
   "execution_count": 33,
   "id": "8cd642df-a9b0-424f-99a8-f5241b5e6303",
   "metadata": {},
   "outputs": [
    {
     "data": {
      "text/html": [
       "<div>\n",
       "<style scoped>\n",
       "    .dataframe tbody tr th:only-of-type {\n",
       "        vertical-align: middle;\n",
       "    }\n",
       "\n",
       "    .dataframe tbody tr th {\n",
       "        vertical-align: top;\n",
       "    }\n",
       "\n",
       "    .dataframe thead th {\n",
       "        text-align: right;\n",
       "    }\n",
       "</style>\n",
       "<table border=\"1\" class=\"dataframe\">\n",
       "  <thead>\n",
       "    <tr style=\"text-align: right;\">\n",
       "      <th></th>\n",
       "      <th>id</th>\n",
       "      <th>creation_time</th>\n",
       "      <th>expiration_time</th>\n",
       "      <th>is_active</th>\n",
       "      <th>short_url</th>\n",
       "      <th>long_url</th>\n",
       "    </tr>\n",
       "  </thead>\n",
       "  <tbody>\n",
       "    <tr>\n",
       "      <th>0</th>\n",
       "      <td>1</td>\n",
       "      <td>2024-09-27 02:29:13.572413</td>\n",
       "      <td>2024-09-27 02:49:13.572413</td>\n",
       "      <td>True</td>\n",
       "      <td>HVDW4</td>\n",
       "      <td>https://www.keysight.com/us/en/home.html</td>\n",
       "    </tr>\n",
       "    <tr>\n",
       "      <th>1</th>\n",
       "      <td>2</td>\n",
       "      <td>2024-09-27 02:37:14.979259</td>\n",
       "      <td>2024-09-27 02:38:14.979259</td>\n",
       "      <td>False</td>\n",
       "      <td>5LT40</td>\n",
       "      <td>https://www.google.com</td>\n",
       "    </tr>\n",
       "    <tr>\n",
       "      <th>2</th>\n",
       "      <td>3</td>\n",
       "      <td>2024-09-27 02:37:15.532955</td>\n",
       "      <td>2024-09-27 02:39:15.532955</td>\n",
       "      <td>False</td>\n",
       "      <td>DPJ4S</td>\n",
       "      <td>https://www.bing.com</td>\n",
       "    </tr>\n",
       "    <tr>\n",
       "      <th>3</th>\n",
       "      <td>4</td>\n",
       "      <td>2024-09-27 02:37:16.090145</td>\n",
       "      <td>2024-09-27 02:40:16.090145</td>\n",
       "      <td>False</td>\n",
       "      <td>3XM3B</td>\n",
       "      <td>https://www.amazon.com</td>\n",
       "    </tr>\n",
       "    <tr>\n",
       "      <th>4</th>\n",
       "      <td>5</td>\n",
       "      <td>2024-09-27 02:37:16.634263</td>\n",
       "      <td>2024-09-27 02:41:16.634263</td>\n",
       "      <td>False</td>\n",
       "      <td>XPHKC</td>\n",
       "      <td>https://github.com/</td>\n",
       "    </tr>\n",
       "  </tbody>\n",
       "</table>\n",
       "</div>"
      ],
      "text/plain": [
       "   id              creation_time            expiration_time  is_active  \\\n",
       "0   1 2024-09-27 02:29:13.572413 2024-09-27 02:49:13.572413       True   \n",
       "1   2 2024-09-27 02:37:14.979259 2024-09-27 02:38:14.979259      False   \n",
       "2   3 2024-09-27 02:37:15.532955 2024-09-27 02:39:15.532955      False   \n",
       "3   4 2024-09-27 02:37:16.090145 2024-09-27 02:40:16.090145      False   \n",
       "4   5 2024-09-27 02:37:16.634263 2024-09-27 02:41:16.634263      False   \n",
       "\n",
       "  short_url                                  long_url  \n",
       "0     HVDW4  https://www.keysight.com/us/en/home.html  \n",
       "1     5LT40                    https://www.google.com  \n",
       "2     DPJ4S                      https://www.bing.com  \n",
       "3     3XM3B                    https://www.amazon.com  \n",
       "4     XPHKC                       https://github.com/  "
      ]
     },
     "execution_count": 33,
     "metadata": {},
     "output_type": "execute_result"
    }
   ],
   "source": [
    "db = SessionLocal()\n",
    "df = []\n",
    "\n",
    "for db_url_mapping in db.query(URLMapping).all():\n",
    "    d = {'id': db_url_mapping.id,\n",
    "         'creation_time': db_url_mapping.creation_time,\n",
    "         'expiration_time': db_url_mapping.expiration_time,\n",
    "         'is_active': db_url_mapping.is_active,\n",
    "         'short_url': db_url_mapping.short_url,\n",
    "         'long_url': db_url_mapping.long_url}\n",
    "    df.append(d)\n",
    "db.close()\n",
    "pd.DataFrame(df)"
   ]
  },
  {
   "cell_type": "code",
   "execution_count": 34,
   "id": "65e1a146-1766-40a5-b28d-7bfbf666d6e1",
   "metadata": {},
   "outputs": [
    {
     "data": {
      "text/plain": [
       "datetime.datetime(2024, 9, 27, 2, 43, 25, 71156)"
      ]
     },
     "execution_count": 34,
     "metadata": {},
     "output_type": "execute_result"
    }
   ],
   "source": [
    "current_time = datetime.datetime.now(datetime.UTC).replace(tzinfo=None)\n",
    "current_time"
   ]
  }
 ],
 "metadata": {
  "kernelspec": {
   "display_name": "Python [conda env:pyai]",
   "language": "python",
   "name": "conda-env-pyai-py"
  },
  "language_info": {
   "codemirror_mode": {
    "name": "ipython",
    "version": 3
   },
   "file_extension": ".py",
   "mimetype": "text/x-python",
   "name": "python",
   "nbconvert_exporter": "python",
   "pygments_lexer": "ipython3",
   "version": "3.12.4"
  }
 },
 "nbformat": 4,
 "nbformat_minor": 5
}
